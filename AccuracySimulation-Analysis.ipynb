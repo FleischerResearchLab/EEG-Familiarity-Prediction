{
 "cells": [
  {
   "cell_type": "code",
   "execution_count": null,
   "id": "ae8944bf",
   "metadata": {},
   "outputs": [],
   "source": [
    "import scipy.io\n",
    "import pandas as pd\n",
    "import numpy as np \n",
    "from sklearn.model_selection import LeaveOneGroupOut, cross_val_score, cross_val_predict\n",
    "from sklearn.discriminant_analysis import LinearDiscriminantAnalysis\n",
    "from sklearn.metrics import accuracy_score, roc_auc_score\n",
    "import scipy.stats as stats\n",
    "from mat_preproc import preproc\n",
    "\n",
    "from joblib import Parallel, delayed\n",
    "import pickle as pkl\n",
    "\n",
    "import matplotlib.pyplot as plt\n",
    "import seaborn as sns\n",
    "\n",
    "%matplotlib inline\n",
    "%config InlineBackend.figure_format='retina'\n",
    "\n",
    "sns.set_style(\"darkgrid\")"
   ]
  },
  {
   "cell_type": "markdown",
   "id": "6a4d9325",
   "metadata": {},
   "source": [
    "# Encodings for Each Label\n",
    "\n",
    "## *source information*\n",
    "\n",
    "1. SC (Source Correct)\n",
    "2. CR (Correct Rejection)\n",
    "3. SI (Source Incorrect)\n",
    "4. Miss \n",
    "5. FA  (False Alarm)\n",
    "\n",
    "## *label for the source response*\n",
    "\n",
    "1. RS (Remember Source)\n",
    "2. RO (Remember Other)\n",
    "3. F (Familiarity)\n",
    "4. MN (Maybe New) \n",
    "5. SN (Sure New)\n"
   ]
  },
  {
   "cell_type": "markdown",
   "id": "08869d83",
   "metadata": {},
   "source": [
    "Two different "
   ]
  },
  {
   "cell_type": "code",
   "execution_count": null,
   "id": "086b98f6",
   "metadata": {},
   "outputs": [],
   "source": [
    "with open('data/SN_vs_MN_empirical_accs_1.pkl', 'rb') as f:\n",
    "    data = pkl.load(f)\n",
    "plt.hist(data, label=\"All Subject\", bins=30, alpha=0.8)\n",
    "plt.title(\"SN vs MN Trail 1\")\n",
    "plt.legend()\n",
    "print(f\"p value = {np.mean(np.array(data) > 0.5421)}\")\n",
    "\n",
    "with open('data/SN_vs_MN_empirical_accs_leftout_1.pkl', 'rb') as f:\n",
    "    data = pkl.load(f)\n",
    "plt.hist(data, label=\"Filtered Subject\", bins=30, alpha=0.8)\n",
    "plt.title(\"SN vs MN Trail 1 Filtered Subject\")\n",
    "\n",
    "plt.plot(0.5421, 10, marker=\"o\", markersize=5, c=\"red\", label=\"Reported Value\")\n",
    "plt.legend()\n",
    "print(f\"p value = {np.mean(np.array(data) > 0.5421)}\")"
   ]
  },
  {
   "cell_type": "code",
   "execution_count": null,
   "id": "38dbcee5",
   "metadata": {},
   "outputs": [],
   "source": [
    "with open('data/SN_vs_MN_empirical_accs_2.pkl', 'rb') as f:\n",
    "    data = pkl.load(f)\n",
    "plt.hist(data, label=\"All Subject\", bins=20)\n",
    "plt.title(\"SN vs MN Trail 2\")\n",
    "plt.legend()\n",
    "print(f\"p value = {np.mean(np.array(data) > 0.5653)}\")\n",
    "\n",
    "with open('data/SN_vs_MN_empirical_accs_leftout_2.pkl', 'rb') as f:\n",
    "    data = pkl.load(f)\n",
    "plt.hist(data, label=\"Filtered Subject\", bins=20)\n",
    "plt.title(\"SN vs MN Trail 2 Filtered Subject\")\n",
    "plt.plot(0.5653, 10, marker=\"o\", markersize=5, c=\"red\", label=\"Reported Value\")\n",
    "plt.legend()\n",
    "print(f\"p value = {np.mean(np.array(data) > 0.5653)}\")"
   ]
  },
  {
   "cell_type": "code",
   "execution_count": null,
   "id": "554a670e",
   "metadata": {},
   "outputs": [],
   "source": [
    "with open('data/F_vs_CR_empirical_accs_1.pkl', 'rb') as f:\n",
    "    data = pkl.load(f)\n",
    "plt.hist(data, label=\"All Subject\", bins=10, alpha=0.8)\n",
    "plt.title(\"F vs CR Trail 1\")\n",
    "plt.legend()\n",
    "print(f\"p value = {np.mean(np.array(data) > 0.5465)}\")\n",
    "\n",
    "with open('data/F_vs_CR_empirical_accs_leftout_1.pkl', 'rb') as f:\n",
    "    data = pkl.load(f)\n",
    "plt.hist(data, label=\"Filtered Subject\", bins=10, alpha=0.8)\n",
    "plt.plot(0.5465, 10, marker=\"o\", markersize=5, c=\"red\", label=\"Reported Value\")\n",
    "plt.legend()\n",
    "print(f\"p value = {np.mean(np.array(data) > 0.5465)}\")"
   ]
  },
  {
   "cell_type": "code",
   "execution_count": null,
   "id": "93dd409d",
   "metadata": {},
   "outputs": [],
   "source": [
    "with open('data/F_vs_CR_empirical_accs_2.pkl', 'rb') as f:\n",
    "    data = pkl.load(f)\n",
    "plt.hist(data, label=\"All Subject\", bins=10 , alpha=0.8)\n",
    "plt.title(\"F vs CR Trail 2\")\n",
    "\n",
    "with open('data/F_vs_CR_empirical_accs_leftout_2.pkl', 'rb') as f:\n",
    "    data = pkl.load(f)\n",
    "plt.hist(data, label=\"Filtered Subject\", bins=10 , alpha=0.8)\n",
    "plt.title(\"F vs CR Trail 2\")\n",
    "plt.plot(0.5405, 10, marker=\"o\", markersize=5, c=\"red\", label=\"Reported Value\")\n",
    "plt.legend()\n",
    "\n",
    "plt.legend()\n",
    "print(f\"p value = {np.mean(np.array(data) > 0.5405)}\")"
   ]
  },
  {
   "cell_type": "markdown",
   "id": "3c710c5b",
   "metadata": {},
   "source": [
    " Entire dataset on the simpliest setting using sklearn and matlab."
   ]
  },
  {
   "cell_type": "markdown",
   "id": "654e27c1",
   "metadata": {},
   "source": [
    "# BootStrap"
   ]
  },
  {
   "cell_type": "code",
   "execution_count": null,
   "id": "3e013678",
   "metadata": {},
   "outputs": [],
   "source": [
    "with open('SN_vs_MN_empirical_accs_leftout_1.pkl', 'rb') as f:\n",
    "    data = pkl.load(f)\n",
    "plt.hist(data, label=\"Without Replacement\", alpha=0.8)\n",
    "plt.title(\"SN vs MN Trail 1\")\n",
    "plt.legend()\n",
    "print(f\"p value = {np.mean(np.array(data) > 0.5421)}\")\n",
    "\n",
    "with open('SN_vs_MN_empirical_accs_leftout_boot_1.pkl', 'rb') as f:\n",
    "    data = pkl.load(f)\n",
    "plt.hist(data, label=\"With Replacement\", alpha=0.8)\n",
    "plt.title(\"SN vs MN Trail 1 Filtered Subject\")\n",
    "\n",
    "plt.plot(0.5421, 10, marker=\"o\", markersize=5, c=\"red\", label=\"Reported Value\")\n",
    "plt.legend()\n",
    "print(f\"p value = {np.mean(np.array(data) > 0.5421)}\")"
   ]
  },
  {
   "cell_type": "code",
   "execution_count": null,
   "id": "13f0b047",
   "metadata": {},
   "outputs": [],
   "source": []
  }
 ],
 "metadata": {
  "kernelspec": {
   "display_name": "Python 3 (ipykernel)",
   "language": "python",
   "name": "python3"
  },
  "language_info": {
   "codemirror_mode": {
    "name": "ipython",
    "version": 3
   },
   "file_extension": ".py",
   "mimetype": "text/x-python",
   "name": "python",
   "nbconvert_exporter": "python",
   "pygments_lexer": "ipython3",
   "version": "3.9.7"
  }
 },
 "nbformat": 4,
 "nbformat_minor": 5
}
