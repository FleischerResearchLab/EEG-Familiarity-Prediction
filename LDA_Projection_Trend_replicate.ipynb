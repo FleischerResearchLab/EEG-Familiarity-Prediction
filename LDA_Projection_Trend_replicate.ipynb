{
 "cells": [
  {
   "cell_type": "code",
   "execution_count": null,
   "id": "6e10d87f",
   "metadata": {},
   "outputs": [],
   "source": [
    "import scipy.io\n",
    "import pandas as pd\n",
    "import numpy as np \n",
    "from sklearn.model_selection import LeaveOneGroupOut, cross_val_score, cross_val_predict\n",
    "from sklearn.discriminant_analysis import LinearDiscriminantAnalysis\n",
    "from sklearn.metrics import accuracy_score, roc_auc_score\n",
    "import scipy.stats as stats\n",
    "from mat_preproc import preproc\n",
    "\n",
    "import matplotlib.pyplot as plt\n",
    "import seaborn as sns\n",
    "\n",
    "%matplotlib inline\n",
    "%config InlineBackend.figure_format='retina'\n",
    "\n",
    "sns.set_style(\"darkgrid\")"
   ]
  },
  {
   "cell_type": "markdown",
   "id": "59453d6e",
   "metadata": {},
   "source": [
    "# LDA Projection onto Different Classifier"
   ]
  },
  {
   "cell_type": "markdown",
   "id": "60937889",
   "metadata": {},
   "source": [
    "First, we hand coded the class attributes and each classifier listed on the literature."
   ]
  },
  {
   "cell_type": "code",
   "execution_count": null,
   "id": "143b8798",
   "metadata": {},
   "outputs": [],
   "source": [
    "# class attributes\n",
    "source_info = [\"SC\", \"CR\", \"SI\", \"M\", \"FA\"]\n",
    "response_info = [\"RS\", \"RO\", \"F\", \"MN\", \"SN\"]\n",
    "\n",
    "# the x-axis on the projection graph\n",
    "x_axis = [(1, 1), (3, 1), (5, 1), (1, 2), (5, 2), (1, 3), (3, 3), (5, 3), (4, 4), (2, 4), (4, 5), (2, 5)]\n",
    "\n",
    "x_name = np.array([f\"{source_info[s-1]}-{response_info[r-1]}\" for s, r in x_axis])\n",
    "print(x_name)"
   ]
  },
  {
   "cell_type": "code",
   "execution_count": null,
   "id": "7bd4deb0",
   "metadata": {},
   "outputs": [],
   "source": [
    "file_path = \"data_CRM_SN_vs_MN_imbalLDA_order_proj_1.mat\"\n",
    "\n",
    "# in code, they did not leave out the two participant.\n",
    "data_preproc = preproc(file_path, 1)\n",
    "# combine SN and MN\n",
    "pos1, neg1 = data_preproc.filter_index(2,5,2,4)\n",
    "pos2, neg2 = data_preproc.filter_index(4,5,4,4)\n",
    "\n",
    "pos_idx, neg_idx = data_preproc.merge_two_class(pos1, neg1, pos2, neg2)\n",
    "X, y, subject = data_preproc.get_data_by_index(pos_idx, neg_idx, eliminate_trails=False)\n",
    "\n",
    "logo = LeaveOneGroupOut()\n",
    "LDA = LinearDiscriminantAnalysis(shrinkage = \"auto\", solver = 'eigen')\n",
    "\n",
    "curr = 0\n",
    "projections = []\n",
    "for train_idx, test_idx in logo.split(X, y, subject):\n",
    "    # select out the id of the participant that we left out\n",
    "    participant = int(subject[curr])\n",
    "    curr += len(test_idx)\n",
    "    # this LOSO follows the sequence of ppl presented in subject\n",
    "    X_train, X_test, y_train, y_test = X[train_idx], X[test_idx], y[train_idx], y[test_idx]\n",
    "    LDA.fit(X_train, y_train)\n",
    "    # project the whole data of this complete participant\n",
    "    X_subject = data_preproc.get_data_by_participant(participant)\n",
    "    projection = LDA.transform(X_subject)\n",
    "    projections.append(projection)\n",
    "projections = np.concatenate(projections)"
   ]
  },
  {
   "cell_type": "code",
   "execution_count": null,
   "id": "12c3abce",
   "metadata": {},
   "outputs": [],
   "source": [
    "pos_idx = [10, 11]\n",
    "neg_idx = [8, 9]\n",
    "\n",
    "summary_stats = []\n",
    "\n",
    "for source, response in x_axis:\n",
    "    idx = data_preproc.filter_index_single_class(source, response, include_left_out=False)\n",
    "    proj = projections[idx]\n",
    "    mean = proj.mean()\n",
    "    std = proj.std() / np.sqrt(len(proj)) * 1.96\n",
    "    summary_stats.append((mean, std))\n",
    "\n",
    "summary_stats = np.array(summary_stats)\n",
    "\n",
    "plt.errorbar(x_name, summary_stats[:,0], yerr = summary_stats[:,1],\n",
    "             fmt='o', capsize=3, c = 'black')\n",
    "# pos\n",
    "plt.errorbar(x_name[pos_idx], summary_stats[pos_idx,0],\n",
    "             yerr = summary_stats[pos_idx,1] , fmt='o', capsize=3, c = 'lime', label=\"neg class\")\n",
    "# neg\n",
    "plt.errorbar(x_name[neg_idx], summary_stats[neg_idx,0],\n",
    "             yerr = summary_stats[neg_idx,1] , fmt='o', capsize=3, c = 'red', label=\"pos class\")\n",
    "\n",
    "_ = plt.xticks(rotation=45)\n",
    "plt.legend()"
   ]
  },
  {
   "cell_type": "code",
   "execution_count": null,
   "id": "169f8ffd",
   "metadata": {},
   "outputs": [],
   "source": []
  }
 ],
 "metadata": {
  "kernelspec": {
   "display_name": "Python 3 (ipykernel)",
   "language": "python",
   "name": "python3"
  },
  "language_info": {
   "codemirror_mode": {
    "name": "ipython",
    "version": 3
   },
   "file_extension": ".py",
   "mimetype": "text/x-python",
   "name": "python",
   "nbconvert_exporter": "python",
   "pygments_lexer": "ipython3",
   "version": "3.9.7"
  }
 },
 "nbformat": 4,
 "nbformat_minor": 5
}
