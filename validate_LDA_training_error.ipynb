{
 "cells": [
  {
   "cell_type": "code",
   "execution_count": 1,
   "id": "910dce47",
   "metadata": {},
   "outputs": [],
   "source": [
    "import scipy.io\n",
    "import pandas as pd\n",
    "import numpy as np \n",
    "from sklearn.model_selection import LeaveOneGroupOut, cross_val_score, cross_val_predict\n",
    "from sklearn.discriminant_analysis import LinearDiscriminantAnalysis\n",
    "from sklearn.metrics import accuracy_score, roc_auc_score\n",
    "import scipy.stats as stats\n",
    "from mat_preproc import preproc\n",
    "\n",
    "import matplotlib.pyplot as plt\n",
    "import seaborn as sns\n",
    "\n",
    "%matplotlib inline\n",
    "%config InlineBackend.figure_format='retina'\n",
    "sns.set_style(\"darkgrid\")\n",
    "\n",
    "import matlab.engine\n",
    "eng = matlab.engine.start_matlab()"
   ]
  },
  {
   "cell_type": "markdown",
   "id": "ef5cb891",
   "metadata": {},
   "source": [
    "# Encodings for Each Label\n",
    "\n",
    "## *source information*\n",
    "\n",
    "1. SC (Source Correct)\n",
    "2. CR (Correct Rejection)\n",
    "3. SI (Source Incorrect)\n",
    "4. Miss \n",
    "5. FA  (False Alarm)\n",
    "\n",
    "## *label for the source response*\n",
    "\n",
    "1. RS (Remember Source)\n",
    "2. RO (Remember Other)\n",
    "3. F (Familiarity)\n",
    "4. MN (Maybe New) \n",
    "5. SN (Sure New)\n"
   ]
  },
  {
   "cell_type": "code",
   "execution_count": 2,
   "id": "c85cf2db",
   "metadata": {},
   "outputs": [],
   "source": [
    "# class attributes\n",
    "source_info = [\"SC\", \"CR\", \"SI\", \"M\", \"FA\"]\n",
    "response_info = [\"RS\", \"RO\", \"F\", \"MN\", \"SN\"]\n",
    "\n",
    "# the x-axis on the projection graph\n",
    "x_axis = [(1, 1), (3, 1), (5, 1), (1, 2), (5, 2), (1, 3), (3, 3), (5, 3), (4, 4), (2, 4), (4, 5), (2, 5)]"
   ]
  },
  {
   "cell_type": "markdown",
   "id": "00f3f4f8",
   "metadata": {},
   "source": [
    "# Summary Function"
   ]
  },
  {
   "cell_type": "code",
   "execution_count": 3,
   "id": "83a75107",
   "metadata": {},
   "outputs": [],
   "source": [
    "def clf_summary(clf, exp):\n",
    "    \n",
    "    file_path = f\"data_imbalLDA_{exp}.mat\"\n",
    "    data_preproc = preproc(file_path, exp)\n",
    "    if clf == \"SN_vs_MN\":\n",
    "        pos1, neg1 = data_preproc.filter_index(2,5,2,4)\n",
    "        pos2, neg2 = data_preproc.filter_index(4,5,4,4)\n",
    "    elif clf == \"F_vs_CR\":\n",
    "        pos1, neg1 = data_preproc.filter_index(1,3,2,4)\n",
    "        pos2, neg2 = data_preproc.filter_index(3,3,2,5)\n",
    "    else:\n",
    "        raise ValueError(\"Unknown Classifier\")\n",
    "    pos_idx, neg_idx = data_preproc.merge_two_class(pos1, neg1, pos2, neg2)\n",
    "    X, y, subject = data_preproc.get_data_by_index(pos_idx, neg_idx, eliminate_trails = False)\n",
    "    print(f\"Summary for Clf: {clf}, Exp: {exp}\")\n",
    "    print(f\"the shape of the training features is {X.shape}\")\n",
    "\n",
    "    ## use shrinkage 0 to fit the whole data and test on the whole data\n",
    "    ## different solvers give the same result\n",
    "    LDA = LinearDiscriminantAnalysis(shrinkage = 0, solver = 'eigen')\n",
    "    LDA.fit(X, y)\n",
    "    print(f\"the accuracy for experiment {exp} {clf} is {LDA.score(X, y)}\")\n",
    "\n",
    "#     ## Projection graph\n",
    "#     pos_idx = [10, 11]\n",
    "#     neg_idx = [8, 9]\n",
    "#     data_preproc.generate_projections(LDA, pos_idx, neg_idx, X, y, subject)\n",
    "#     plt.title(f\"{clf} Projection Experiment {exp}\", fontsize = 12)\n",
    "    "
   ]
  },
  {
   "cell_type": "markdown",
   "id": "7a3d8eda",
   "metadata": {},
   "source": [
    "## Testing in different classifier and experiment number"
   ]
  },
  {
   "cell_type": "markdown",
   "id": "36d05f31",
   "metadata": {},
   "source": [
    "### SN vs MN, Exp 1"
   ]
  },
  {
   "cell_type": "code",
   "execution_count": 4,
   "id": "425cab91",
   "metadata": {},
   "outputs": [
    {
     "name": "stdout",
     "output_type": "stream",
     "text": [
      "Summary for Clf: SN_vs_MN, Exp: 1\n",
      "the shape of the training features is (3898, 72)\n",
      "the accuracy for experiment 1 SN_vs_MN is 0.616213442791175\n"
     ]
    }
   ],
   "source": [
    "# Python & Sklearn\n",
    "clf_summary(\"SN_vs_MN\", 1)"
   ]
  },
  {
   "cell_type": "code",
   "execution_count": 5,
   "id": "c49f3a71",
   "metadata": {},
   "outputs": [
    {
     "name": "stdout",
     "output_type": "stream",
     "text": [
      "The shape of the training set is\n",
      "        3898          72\n",
      "\n",
      "the accuracy for experiment 1 SN_vs_MN is: 0.60749\n"
     ]
    },
    {
     "data": {
      "text/plain": [
       "0.6074910210364289"
      ]
     },
     "execution_count": 5,
     "metadata": {},
     "output_type": "execute_result"
    }
   ],
   "source": [
    "# Matlab & Kueida\n",
    "eng.LDA_simplest_test(\"SN_vs_MN\", 1, nargout=1)"
   ]
  },
  {
   "cell_type": "markdown",
   "id": "4f03de0c",
   "metadata": {},
   "source": [
    "### SN vs MN, Exp 2"
   ]
  },
  {
   "cell_type": "code",
   "execution_count": 6,
   "id": "74496f5f",
   "metadata": {
    "scrolled": true
   },
   "outputs": [
    {
     "name": "stdout",
     "output_type": "stream",
     "text": [
      "Summary for Clf: SN_vs_MN, Exp: 2\n",
      "the shape of the training features is (3133, 72)\n",
      "the accuracy for experiment 2 SN_vs_MN is 0.6878391318225343\n"
     ]
    }
   ],
   "source": [
    "# Python & Sklearn\n",
    "clf_summary(\"SN_vs_MN\", 2)"
   ]
  },
  {
   "cell_type": "code",
   "execution_count": 7,
   "id": "67db04bf",
   "metadata": {},
   "outputs": [
    {
     "name": "stdout",
     "output_type": "stream",
     "text": [
      "The shape of the training set is\n",
      "        3133          72\n",
      "\n",
      "the accuracy for experiment 2 SN_vs_MN is: 0.61985\n"
     ]
    },
    {
     "data": {
      "text/plain": [
       "0.6198531758697734"
      ]
     },
     "execution_count": 7,
     "metadata": {},
     "output_type": "execute_result"
    }
   ],
   "source": [
    "# Matlab & Kueida\n",
    "eng.LDA_simplest_test(\"SN_vs_MN\", 2, nargout=1)"
   ]
  },
  {
   "cell_type": "markdown",
   "id": "b80a6ee4",
   "metadata": {},
   "source": [
    "### F vs CR, Exp 1"
   ]
  },
  {
   "cell_type": "code",
   "execution_count": 8,
   "id": "19d59e05",
   "metadata": {},
   "outputs": [
    {
     "name": "stdout",
     "output_type": "stream",
     "text": [
      "Summary for Clf: F_vs_CR, Exp: 1\n",
      "the shape of the training features is (3703, 72)\n",
      "the accuracy for experiment 1 F_vs_CR is 0.7051039697542533\n"
     ]
    }
   ],
   "source": [
    "# Python & Sklearn\n",
    "clf_summary(\"F_vs_CR\", 1)"
   ]
  },
  {
   "cell_type": "code",
   "execution_count": 9,
   "id": "2c408e3f",
   "metadata": {},
   "outputs": [
    {
     "name": "stdout",
     "output_type": "stream",
     "text": [
      "The shape of the training set is\n",
      "        3703          72\n",
      "\n",
      "the accuracy for experiment 1 F_vs_CR is: 0.6087\n"
     ]
    },
    {
     "data": {
      "text/plain": [
       "0.6086956521739131"
      ]
     },
     "execution_count": 9,
     "metadata": {},
     "output_type": "execute_result"
    }
   ],
   "source": [
    "# Matlab & Kueida\n",
    "eng.LDA_simplest_test(\"F_vs_CR\", 1, nargout=1)"
   ]
  },
  {
   "cell_type": "markdown",
   "id": "10df8fd7",
   "metadata": {},
   "source": [
    "### F vs CR, Exp 2"
   ]
  },
  {
   "cell_type": "code",
   "execution_count": 10,
   "id": "e38e6928",
   "metadata": {},
   "outputs": [
    {
     "name": "stdout",
     "output_type": "stream",
     "text": [
      "Summary for Clf: F_vs_CR, Exp: 2\n",
      "the shape of the training features is (3326, 72)\n",
      "the accuracy for experiment 2 F_vs_CR is 0.7384245339747444\n"
     ]
    }
   ],
   "source": [
    "# Python & Sklearn\n",
    "clf_summary(\"F_vs_CR\", 2)"
   ]
  },
  {
   "cell_type": "code",
   "execution_count": 11,
   "id": "4408e7cc",
   "metadata": {},
   "outputs": [
    {
     "name": "stdout",
     "output_type": "stream",
     "text": [
      "The shape of the training set is\n",
      "        3326          72\n",
      "\n",
      "the accuracy for experiment 2 F_vs_CR is: 0.59321\n"
     ]
    },
    {
     "data": {
      "text/plain": [
       "0.5932050511124474"
      ]
     },
     "execution_count": 11,
     "metadata": {},
     "output_type": "execute_result"
    }
   ],
   "source": [
    "# Matlab & Kueida\n",
    "eng.LDA_simplest_test(\"F_vs_CR\", 2, nargout=1)"
   ]
  }
 ],
 "metadata": {
  "kernelspec": {
   "display_name": "Python 3 (ipykernel)",
   "language": "python",
   "name": "python3"
  },
  "language_info": {
   "codemirror_mode": {
    "name": "ipython",
    "version": 3
   },
   "file_extension": ".py",
   "mimetype": "text/x-python",
   "name": "python",
   "nbconvert_exporter": "python",
   "pygments_lexer": "ipython3",
   "version": "3.9.7"
  }
 },
 "nbformat": 4,
 "nbformat_minor": 5
}
