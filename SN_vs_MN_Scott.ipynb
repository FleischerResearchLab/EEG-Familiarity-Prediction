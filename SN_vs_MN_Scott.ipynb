{
 "cells": [
  {
   "cell_type": "code",
   "execution_count": 1,
   "id": "2c9d3d16",
   "metadata": {},
   "outputs": [],
   "source": [
    "import scipy.io\n",
    "import pandas as pd\n",
    "import numpy as np \n",
    "from sklearn.model_selection import LeaveOneGroupOut\n",
    "from sklearn.discriminant_analysis import LinearDiscriminantAnalysis\n",
    "from sklearn.metrics import accuracy_score\n",
    "import scipy.stats as stats"
   ]
  },
  {
   "cell_type": "code",
   "execution_count": 2,
   "id": "d941d500",
   "metadata": {},
   "outputs": [
    {
     "name": "stdout",
     "output_type": "stream",
     "text": [
      "dict_keys(['__header__', '__version__', '__globals__', 'user_class_min_1', 'user_feat_1', 'user_prob_1', 'user_resp_1', 'user_source_1', 'user_tr_order_1', 'user_train_prob_1', 'user_weights_1'])\n"
     ]
    }
   ],
   "source": [
    "#Load in the MATLAB file with all the data\n",
    "data = scipy.io.loadmat('data_CRM_SN_vs_MN_imbalLDA_order_proj_1.mat')\n",
    "\n",
    "print(data.keys())"
   ]
  },
  {
   "cell_type": "code",
   "execution_count": 9,
   "id": "b2d15a9f",
   "metadata": {
    "scrolled": false
   },
   "outputs": [
    {
     "data": {
      "text/plain": [
       "(432, 1)"
      ]
     },
     "execution_count": 9,
     "metadata": {},
     "output_type": "execute_result"
    }
   ],
   "source": [
    "data[\"user_resp_1\"][0][0].shape"
   ]
  },
  {
   "cell_type": "code",
   "execution_count": 10,
   "id": "5cc160e5",
   "metadata": {},
   "outputs": [
    {
     "data": {
      "text/plain": [
       "432"
      ]
     },
     "execution_count": 10,
     "metadata": {},
     "output_type": "execute_result"
    }
   ],
   "source": [
    "#Had to index them like this because there was an unnecessary dimension \n",
    "\n",
    "# user trail order\n",
    "tr_order = data['user_tr_order_1'][0]\n",
    "\n",
    "# projection scores\n",
    "proj_score = data['user_prob_1'][0]\n",
    "\n",
    "# source and response label\n",
    "source_label = data['user_source_1'][0]\n",
    "resp_label = data['user_resp_1'][0]\n",
    "\n",
    "# features, group the channels and average over the windows,\n",
    "# those are called features, and we use the features for training\n",
    "behav_feat = data['user_feat_1'][0]\n",
    "\n",
    "len(resp_label[0])"
   ]
  },
  {
   "cell_type": "code",
   "execution_count": 26,
   "id": "cd21db58",
   "metadata": {},
   "outputs": [
    {
     "data": {
      "text/plain": [
       "((432, 1), (134, 1))"
      ]
     },
     "execution_count": 26,
     "metadata": {},
     "output_type": "execute_result"
    }
   ],
   "source": [
    "tr_order[0].shape, tr_order[1].shape"
   ]
  },
  {
   "cell_type": "code",
   "execution_count": 31,
   "id": "c77af164",
   "metadata": {},
   "outputs": [
    {
     "data": {
      "text/plain": [
       "(432, 1)"
      ]
     },
     "execution_count": 31,
     "metadata": {},
     "output_type": "execute_result"
    }
   ],
   "source": [
    "source_label[0].shape"
   ]
  },
  {
   "cell_type": "code",
   "execution_count": 33,
   "id": "33ba8cc3",
   "metadata": {},
   "outputs": [
    {
     "data": {
      "text/plain": [
       "(432, 1)"
      ]
     },
     "execution_count": 33,
     "metadata": {},
     "output_type": "execute_result"
    }
   ],
   "source": [
    "proj_score[0].shape"
   ]
  },
  {
   "cell_type": "markdown",
   "id": "6a4d9325",
   "metadata": {},
   "source": [
    "# Encodings for Each Label\n",
    "\n",
    "## *source information*\n",
    "\n",
    "1. SC (Source Correct)\n",
    "2. CR (Correct Rejection)\n",
    "3. SI (Source Incorrect)\n",
    "4. Miss \n",
    "5. FA  (False Alarm)\n",
    "\n",
    "## *label for the source response*\n",
    "\n",
    "1. RS (Remember Source)\n",
    "2. RO (Remember Other)\n",
    "3. F (Familiarity)\n",
    "4. MN (Maybe New) \n",
    "5. SN (Sure New)\n"
   ]
  },
  {
   "cell_type": "code",
   "execution_count": 53,
   "id": "36ed7ba4",
   "metadata": {},
   "outputs": [],
   "source": [
    "source_info = [\"SC\", \"CR\", \"SI\", \"M\", \"FA\"]\n",
    "response_info = [\"RS\", \"RO\", \"F\", \"MN\", \"SN\"]\n",
    "\n",
    "#Function to help prepared the appropriate labels\n",
    "def prepare_labels(pos_source_label, pos_resp_label,\n",
    "                   neg_source_label, neg_resp_label):\n",
    "    \"\"\"\n",
    "    Preaparing the positive and negative class label in a multi-class \n",
    "    classification senarios\n",
    "    \n",
    "    Parameters:\n",
    "    -----------\n",
    "    pos_source_label : int\n",
    "        the positive class's source label.\n",
    "        for details, please refer to the above encodings\n",
    "    pos_resp_label : int\n",
    "        the positive class's response label\n",
    "    neg_source_label : int\n",
    "        the negative class's source label\n",
    "    neg_response_label : int\n",
    "        the negative class's response label\n",
    "        \n",
    "    Returns:\n",
    "    --------\n",
    "    data_x : np.ndarray\n",
    "        the input for the formatted data\n",
    "    data_y : np.ndarray\n",
    "        the ground truth label\n",
    "    data_subject : np.ndarray\n",
    "        th subject number that corresponds to the data_x and data_y\n",
    "    \"\"\"\n",
    "    temp_data_x = []\n",
    "    temp_data_y = []\n",
    "    temp_data_s = []\n",
    "    \n",
    "    # parse the label into human readable format\n",
    "    positive_label = source_info[pos_source_label-1] + response_info[pos_resp_label-1]\n",
    "    negative_label = source_info[neg_source_label-1] + response_info[neg_resp_label-1]\n",
    "    \n",
    "    # keep track of each subject number, \n",
    "    # for later LOSO\n",
    "    \n",
    "    for subject, zipped in enumerate(zip(source_label,resp_label,behav_feat)):\n",
    "        source, response, behavior_feature = zipped\n",
    "        # use the logical intersection to subtract out the indices \n",
    "        # of the positive and negative class\n",
    "        pos_index = (\n",
    "            (source.flatten()==pos_source_label) &\n",
    "            (response.flatten()==pos_resp_label)\n",
    "                    )\n",
    "        neg_index = (\n",
    "            (source.flatten()==neg_source_label) & \n",
    "            (response.flatten()==neg_resp_label)\n",
    "        )\n",
    "        \n",
    "        temp_data_x.append(behavior_feature[pos_index,:])\n",
    "        temp_data_x.append(behavior_feature[neg_index,:])\n",
    "        \n",
    "        temp_data_y.append([positive_label for x in behavior_feature[pos_index,:]])\n",
    "        temp_data_y.append([negative_label for x in behavior_feature[neg_index,:]])\n",
    "        \n",
    "        temp_data_s.append([subject for x in behavior_feature[pos_index,:]])\n",
    "        temp_data_s.append([subject for x in behavior_feature[neg_index,:]])\n",
    "    # stacking the data in different dimension together    \n",
    "    data_x = np.vstack(temp_data_x)\n",
    "    data_y = np.concatenate(temp_data_y)\n",
    "    data_subject = np.concatenate(temp_data_s)\n",
    "    return data_x, data_y, data_subject"
   ]
  },
  {
   "cell_type": "code",
   "execution_count": 54,
   "id": "13e6c8a5",
   "metadata": {
    "scrolled": false
   },
   "outputs": [],
   "source": [
    "data_x, data_y, data_s = prepare_labels(2,5,2,4)"
   ]
  },
  {
   "cell_type": "code",
   "execution_count": 57,
   "id": "ba4209aa",
   "metadata": {},
   "outputs": [
    {
     "data": {
      "text/plain": [
       "(2603,)"
      ]
     },
     "execution_count": 57,
     "metadata": {},
     "output_type": "execute_result"
    }
   ],
   "source": [
    "data_s.shape"
   ]
  },
  {
   "cell_type": "code",
   "execution_count": null,
   "id": "401cb3f5",
   "metadata": {},
   "outputs": [],
   "source": []
  }
 ],
 "metadata": {
  "kernelspec": {
   "display_name": "Python 3 (ipykernel)",
   "language": "python",
   "name": "python3"
  },
  "language_info": {
   "codemirror_mode": {
    "name": "ipython",
    "version": 3
   },
   "file_extension": ".py",
   "mimetype": "text/x-python",
   "name": "python",
   "nbconvert_exporter": "python",
   "pygments_lexer": "ipython3",
   "version": "3.9.7"
  }
 },
 "nbformat": 4,
 "nbformat_minor": 5
}
