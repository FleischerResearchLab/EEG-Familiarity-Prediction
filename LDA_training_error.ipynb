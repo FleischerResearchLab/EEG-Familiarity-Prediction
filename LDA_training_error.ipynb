{
 "cells": [
  {
   "cell_type": "code",
   "execution_count": 45,
   "id": "910dce47",
   "metadata": {},
   "outputs": [],
   "source": [
    "import scipy.io\n",
    "import pandas as pd\n",
    "import numpy as np \n",
    "from sklearn.model_selection import LeaveOneGroupOut, cross_val_score, cross_val_predict\n",
    "from sklearn.discriminant_analysis import LinearDiscriminantAnalysis\n",
    "from sklearn.metrics import accuracy_score, roc_auc_score\n",
    "import scipy.stats as stats\n",
    "from sklearn.metrics.pairwise import cosine_similarity\n",
    "from sklearn.preprocessing import normalize\n",
    "\n",
    "from mat_preproc import preproc\n",
    "\n",
    "import matplotlib.pyplot as plt\n",
    "import seaborn as sns\n",
    "\n",
    "%matplotlib inline\n",
    "%config InlineBackend.figure_format='retina'\n",
    "sns.set_style(\"darkgrid\")\n",
    "\n",
    "import matlab.engine\n",
    "eng = matlab.engine.start_matlab()"
   ]
  },
  {
   "cell_type": "markdown",
   "id": "ef5cb891",
   "metadata": {},
   "source": [
    "# Encodings for Each Label\n",
    "\n",
    "## *source information*\n",
    "\n",
    "1. SC (Source Correct)\n",
    "2. CR (Correct Rejection)\n",
    "3. SI (Source Incorrect)\n",
    "4. Miss \n",
    "5. FA  (False Alarm)\n",
    "\n",
    "## *label for the source response*\n",
    "\n",
    "1. RS (Remember Source)\n",
    "2. RO (Remember Other)\n",
    "3. F (Familiarity)\n",
    "4. MN (Maybe New) \n",
    "5. SN (Sure New)\n"
   ]
  },
  {
   "cell_type": "code",
   "execution_count": 46,
   "id": "c85cf2db",
   "metadata": {},
   "outputs": [],
   "source": [
    "# class attributes\n",
    "source_info = [\"SC\", \"CR\", \"SI\", \"M\", \"FA\"]\n",
    "response_info = [\"RS\", \"RO\", \"F\", \"MN\", \"SN\"]\n",
    "\n",
    "# the x-axis on the projection graph\n",
    "x_axis = [(1, 1), (3, 1), (5, 1), (1, 2), (5, 2),\n",
    "          (1, 3), (3, 3), (5, 3), (4, 4), (2, 4),\n",
    "          (4, 5), (2, 5)]"
   ]
  },
  {
   "cell_type": "markdown",
   "id": "00f3f4f8",
   "metadata": {},
   "source": [
    "# Summary Function"
   ]
  },
  {
   "cell_type": "code",
   "execution_count": 47,
   "id": "83a75107",
   "metadata": {},
   "outputs": [],
   "source": [
    "def clf_summary(clf, exp):\n",
    "    \n",
    "    file_path = f\"data_imbalLDA_{exp}.mat\"\n",
    "    data_preproc = preproc(file_path, exp)\n",
    "    if clf == \"SN_vs_MN\":\n",
    "        pos1, neg1 = data_preproc.filter_index(2,5,2,4)\n",
    "        pos2, neg2 = data_preproc.filter_index(4,5,4,4)\n",
    "    elif clf == \"F_vs_CR\":\n",
    "        pos1, neg1 = data_preproc.filter_index(1,3,2,4)\n",
    "        pos2, neg2 = data_preproc.filter_index(3,3,2,5)\n",
    "    else:\n",
    "        raise ValueError(\"Unknown Classifier\")\n",
    "    pos_idx, neg_idx = data_preproc.merge_two_class(pos1, neg1, pos2, neg2)\n",
    "    X, y, subject = data_preproc.get_data_by_index(pos_idx, neg_idx, eliminate_trails = False)\n",
    "    print(f\"Summary for Clf: {clf}, Exp: {exp}\")\n",
    "    print(f\"the shape of the training features is {X.shape}\")\n",
    "\n",
    "    ## use shrinkage 0 to fit the whole data and test on the whole data\n",
    "    ## different solvers give the same result\n",
    "    LDA = LinearDiscriminantAnalysis(shrinkage = 0, solver = 'eigen')\n",
    "    LDA.fit(X, y)\n",
    "    print(f\"the accuracy for experiment {exp} {clf} is {LDA.score(X, y)}\")\n",
    "    return LDA.coef_, LDA.intercept_\n",
    "\n",
    "#     ## Projection graph\n",
    "#     pos_idx = [10, 11]\n",
    "#     neg_idx = [8, 9]\n",
    "#     data_preproc.generate_projections(LDA, pos_idx, neg_idx, X, y, subject)\n",
    "#     plt.title(f\"{clf} Projection Experiment {exp}\", fontsize = 12)\n",
    "    "
   ]
  },
  {
   "cell_type": "markdown",
   "id": "7a3d8eda",
   "metadata": {},
   "source": [
    "## Testing in different classifier and experiment number"
   ]
  },
  {
   "cell_type": "markdown",
   "id": "36d05f31",
   "metadata": {},
   "source": [
    "### SN vs MN, Exp 1"
   ]
  },
  {
   "cell_type": "code",
   "execution_count": 48,
   "id": "425cab91",
   "metadata": {},
   "outputs": [
    {
     "name": "stdout",
     "output_type": "stream",
     "text": [
      "Summary for Clf: SN_vs_MN, Exp: 1\n",
      "the shape of the training features is (3898, 72)\n",
      "the accuracy for experiment 1 SN_vs_MN is 0.616213442791175\n"
     ]
    }
   ],
   "source": [
    "# Python & Sklearn\n",
    "W_python, b = clf_summary(\"SN_vs_MN\", 1)"
   ]
  },
  {
   "cell_type": "code",
   "execution_count": 50,
   "id": "4b09226e",
   "metadata": {},
   "outputs": [],
   "source": [
    "W_matlab = \"\"\"-0.0083\n",
    "0.0062\n",
    "0.0015\n",
    "0.0099\n",
    "-0.0198\n",
    "0.0017\n",
    "-0.0079\n",
    "0.0133\n",
    "0.0005\n",
    "0.0020\n",
    "-0.0145\n",
    "-0.0052\n",
    "0.0005\n",
    "-0.0004\n",
    "0.0206\n",
    "-0.0220\n",
    "-0.0152\n",
    "0.0169\n",
    "0.0185\n",
    "0.0016\n",
    "-0.0048\n",
    "-0.0135\n",
    "0.0184\n",
    "0.0002\n",
    "0.0165\n",
    "-0.0077\n",
    "-0.0169\n",
    "0.0232\n",
    "0.0225\n",
    "-0.0110\n",
    "-0.0030\n",
    "-0.0155\n",
    "0.0030\n",
    "0.0019\n",
    "0.0365\n",
    "-0.0212\n",
    "-0.0058\n",
    "0.0174\n",
    "0.0001\n",
    "-0.0114\n",
    "-0.0277\n",
    "0.0338\n",
    "-0.0082\n",
    "-0.0120\n",
    "0.0105\n",
    "0.0097\n",
    "-0.0116\n",
    "-0.0053\n",
    "-0.0006\n",
    "-0.0123\n",
    "-0.0135\n",
    "0.0118\n",
    "0.0145\n",
    "-0.0194\n",
    "0.0012\n",
    "0.0136\n",
    "-0.0176\n",
    "0.0115\n",
    "0.0034\n",
    "0.0035\n",
    "-0.0038\n",
    "0.0016\n",
    "0.0181\n",
    "-0.0293\n",
    "-0.0225\n",
    "0.0224\n",
    "0.0016\n",
    "-0.0030\n",
    "-0.0120\n",
    "0.0067\n",
    "0.0156\n",
    "-0.0143\"\"\"\n",
    "W_matlab = np.array(W_matlab.split(\"\\n\")).astype(float)"
   ]
  },
  {
   "cell_type": "code",
   "execution_count": 51,
   "id": "991d1f29",
   "metadata": {},
   "outputs": [
    {
     "data": {
      "text/plain": [
       "array([[0.99362536]])"
      ]
     },
     "execution_count": 51,
     "metadata": {},
     "output_type": "execute_result"
    }
   ],
   "source": [
    "cosine_similarity(W_matlab.reshape(1, -1), W_python[0].reshape(1, -1))"
   ]
  },
  {
   "cell_type": "code",
   "execution_count": 6,
   "id": "c49f3a71",
   "metadata": {
    "scrolled": true
   },
   "outputs": [
    {
     "name": "stdout",
     "output_type": "stream",
     "text": [
      "The shape of the training set is\n",
      "        3898          72\n",
      "\n",
      "    0.0147\n",
      "\n",
      "   -0.0178\n",
      "\n",
      "the accuracy for experiment 1 SN_vs_MN is: 0.60749\n"
     ]
    },
    {
     "data": {
      "text/plain": [
       "0.6074910210364289"
      ]
     },
     "execution_count": 6,
     "metadata": {},
     "output_type": "execute_result"
    }
   ],
   "source": [
    "# Matlab & Kueida\n",
    "eng.LDA_simplest_test(\"SN_vs_MN\", 1, nargout=1)"
   ]
  },
  {
   "cell_type": "code",
   "execution_count": 63,
   "id": "667c33d7",
   "metadata": {},
   "outputs": [
    {
     "data": {
      "text/plain": [
       "array([-0.00216176])"
      ]
     },
     "execution_count": 63,
     "metadata": {},
     "output_type": "execute_result"
    }
   ],
   "source": [
    "-0.0178 * norm_mat"
   ]
  },
  {
   "cell_type": "markdown",
   "id": "4f03de0c",
   "metadata": {},
   "source": [
    "### SN vs MN, Exp 2"
   ]
  },
  {
   "cell_type": "code",
   "execution_count": 7,
   "id": "74496f5f",
   "metadata": {
    "scrolled": true
   },
   "outputs": [
    {
     "name": "stdout",
     "output_type": "stream",
     "text": [
      "Summary for Clf: SN_vs_MN, Exp: 2\n",
      "the shape of the training features is (3133, 72)\n",
      "the accuracy for experiment 2 SN_vs_MN is 0.6878391318225343\n"
     ]
    },
    {
     "data": {
      "text/plain": [
       "(array([[ 0.00627465, -0.00013868, -0.03199199,  0.00933314,  0.03954628,\n",
       "         -0.03907256, -0.00276625, -0.03031232,  0.08160397, -0.11741294,\n",
       "         -0.06031987,  0.07818503, -0.00772073,  0.02081049, -0.04397208,\n",
       "          0.02613238,  0.00519555, -0.04119397, -0.00850628, -0.00480383,\n",
       "          0.02968498,  0.02922219,  0.01466512, -0.02572199,  0.03444012,\n",
       "          0.01984476, -0.00993128, -0.02591995,  0.05254174,  0.02932783,\n",
       "          0.00734244,  0.01122934, -0.00519775,  0.01805797,  0.02168663,\n",
       "         -0.00163178, -0.00145729,  0.00825575, -0.06933359,  0.07217184,\n",
       "          0.02885868, -0.04805951, -0.00304482,  0.01623376,  0.01142381,\n",
       "         -0.01492808, -0.03604686,  0.04691276, -0.01103037, -0.01756308,\n",
       "          0.02244621, -0.02760534,  0.00450689, -0.01328483, -0.00395701,\n",
       "         -0.01809876, -0.03812328,  0.05908179,  0.02733794, -0.0378579 ,\n",
       "          0.0093278 ,  0.0101844 ,  0.00700879, -0.03546789, -0.01142127,\n",
       "          0.03638002, -0.02373569, -0.0150416 ,  0.01321594, -0.01511254,\n",
       "         -0.01901354, -0.0064215 ]]),\n",
       " array([0.70608651]))"
      ]
     },
     "execution_count": 7,
     "metadata": {},
     "output_type": "execute_result"
    }
   ],
   "source": [
    "# Python & Sklearn\n",
    "clf_summary(\"SN_vs_MN\", 2)"
   ]
  },
  {
   "cell_type": "code",
   "execution_count": 8,
   "id": "67db04bf",
   "metadata": {},
   "outputs": [
    {
     "name": "stdout",
     "output_type": "stream",
     "text": [
      "The shape of the training set is\n",
      "        3133          72\n",
      "\n",
      "    0.0115\n",
      "\n",
      "   -0.0102\n",
      "\n",
      "the accuracy for experiment 2 SN_vs_MN is: 0.61985\n"
     ]
    },
    {
     "data": {
      "text/plain": [
       "0.6198531758697734"
      ]
     },
     "execution_count": 8,
     "metadata": {},
     "output_type": "execute_result"
    }
   ],
   "source": [
    "# Matlab & Kueida\n",
    "eng.LDA_simplest_test(\"SN_vs_MN\", 2, nargout=1)"
   ]
  },
  {
   "cell_type": "markdown",
   "id": "b80a6ee4",
   "metadata": {},
   "source": [
    "### F vs CR, Exp 1"
   ]
  },
  {
   "cell_type": "code",
   "execution_count": null,
   "id": "19d59e05",
   "metadata": {},
   "outputs": [],
   "source": [
    "# Python & Sklearn\n",
    "clf_summary(\"F_vs_CR\", 1)"
   ]
  },
  {
   "cell_type": "code",
   "execution_count": null,
   "id": "2c408e3f",
   "metadata": {},
   "outputs": [],
   "source": [
    "# Matlab & Kueida\n",
    "eng.LDA_simplest_test(\"F_vs_CR\", 1, nargout=1)"
   ]
  },
  {
   "cell_type": "markdown",
   "id": "10df8fd7",
   "metadata": {},
   "source": [
    "### F vs CR, Exp 2"
   ]
  },
  {
   "cell_type": "code",
   "execution_count": null,
   "id": "e38e6928",
   "metadata": {},
   "outputs": [],
   "source": [
    "# Python & Sklearn\n",
    "clf_summary(\"F_vs_CR\", 2)"
   ]
  },
  {
   "cell_type": "code",
   "execution_count": null,
   "id": "4408e7cc",
   "metadata": {},
   "outputs": [],
   "source": [
    "# Matlab & Kueida\n",
    "eng.LDA_simplest_test(\"F_vs_CR\", 2, nargout=1)"
   ]
  },
  {
   "cell_type": "code",
   "execution_count": null,
   "id": "57125750",
   "metadata": {},
   "outputs": [],
   "source": []
  }
 ],
 "metadata": {
  "kernelspec": {
   "display_name": "Python 3 (ipykernel)",
   "language": "python",
   "name": "python3"
  },
  "language_info": {
   "codemirror_mode": {
    "name": "ipython",
    "version": 3
   },
   "file_extension": ".py",
   "mimetype": "text/x-python",
   "name": "python",
   "nbconvert_exporter": "python",
   "pygments_lexer": "ipython3",
   "version": "3.9.7"
  }
 },
 "nbformat": 4,
 "nbformat_minor": 5
}
